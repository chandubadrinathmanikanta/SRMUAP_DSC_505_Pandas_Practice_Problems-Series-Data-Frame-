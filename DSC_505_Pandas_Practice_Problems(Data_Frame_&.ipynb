{
  "nbformat": 4,
  "nbformat_minor": 0,
  "metadata": {
    "colab": {
      "provenance": []
    },
    "kernelspec": {
      "name": "python3",
      "display_name": "Python 3"
    },
    "language_info": {
      "name": "python"
    }
  },
  "cells": [
    {
      "cell_type": "markdown",
      "source": [
        "## **Data Frame**"
      ],
      "metadata": {
        "id": "ck1a4Y74DLgk"
      }
    },
    {
      "cell_type": "markdown",
      "source": [
        "1)How to iterate over rows in Pandas Dataframe."
      ],
      "metadata": {
        "id": "lglI568xC5jV"
      }
    },
    {
      "cell_type": "code",
      "source": [
        "import pandas as pd\n",
        "\n",
        "data = {'Name': ['Sasank', 'Sampath', 'Jaswanth'],\n",
        "        'Age': [22, 30, 21],\n",
        "        'City': ['New York', 'London', 'Paris']}\n",
        "df = pd.DataFrame(data)\n",
        "\n",
        "\n",
        "for index, row in df.iterrows():\n",
        "  print(f\"Index: {index}, Name: {row['Name']}, Age: {row['Age']}, City: {row['City']}\")\n"
      ],
      "metadata": {
        "colab": {
          "base_uri": "https://localhost:8080/"
        },
        "id": "vSAw5g5rEC57",
        "outputId": "ecf4ea3f-62f1-440f-cf86-af394f9a6d34"
      },
      "execution_count": null,
      "outputs": [
        {
          "output_type": "stream",
          "name": "stdout",
          "text": [
            "Index: 0, Name: Sasank, Age: 22, City: New York\n",
            "Index: 1, Name: Sampath, Age: 30, City: London\n",
            "Index: 2, Name: Jaswanth, Age: 21, City: Paris\n"
          ]
        }
      ]
    },
    {
      "cell_type": "markdown",
      "source": [
        "2)How to select row with minimum and maximum value in the pandas\n",
        "Dataframe.\n"
      ],
      "metadata": {
        "id": "zXMvddalC9Kj"
      }
    },
    {
      "cell_type": "code",
      "source": [
        "# Find the row with the minimum age\n",
        "row_with_min_age = df.loc[df['Age'].idxmin()]\n",
        "print(\"Row with minimum age:\")\n",
        "print(row_with_min_age)\n",
        "\n",
        "# Find the row with the maximum age\n",
        "row_with_max_age = df.loc[df['Age'].idxmax()]\n",
        "print(\"\\nRow with maximum age:\")\n",
        "print(row_with_max_age)"
      ],
      "metadata": {
        "colab": {
          "base_uri": "https://localhost:8080/"
        },
        "id": "9O4kYlk0EP5M",
        "outputId": "74d608df-e671-4e70-946c-dacb2b765f27"
      },
      "execution_count": null,
      "outputs": [
        {
          "output_type": "stream",
          "name": "stdout",
          "text": [
            "Row with minimum age:\n",
            "Name    Jaswanth\n",
            "Age           21\n",
            "City       Paris\n",
            "Name: 2, dtype: object\n",
            "\n",
            "Row with maximum age:\n",
            "Name    Sampath\n",
            "Age          30\n",
            "City     London\n",
            "Name: 1, dtype: object\n"
          ]
        }
      ]
    },
    {
      "cell_type": "markdown",
      "source": [
        "3)How to merge or join two different dataframes by a common column."
      ],
      "metadata": {
        "id": "qcdv8drbDAdu"
      }
    },
    {
      "cell_type": "code",
      "source": [
        "import pandas as pd\n",
        "# Create two sample DataFrames\n",
        "data1 = {'ID': [1, 2, 3],\n",
        "         'Name': ['Nithin', 'Lokesh', 'Vamsi']}\n",
        "df1 = pd.DataFrame(data1)\n",
        "\n",
        "data2 = {'ID': [2, 3, 4],\n",
        "         'City': ['London', 'Paris', 'New York']}\n",
        "df2 = pd.DataFrame(data2)\n",
        "\n",
        "# Merge the two DataFrames based on the 'ID' column\n",
        "# Inner join: only rows with matching IDs in both DataFrames are included\n",
        "merged_df_inner = pd.merge(df1, df2, on='ID', how='inner')\n",
        "print(\"Inner Join:\")\n",
        "print(merged_df_inner)\n",
        "\n",
        "# Left join: all rows from the left DataFrame (df1) are included,\n",
        "# and matching rows from the right DataFrame (df2) are added.\n",
        "# If there's no match in df2, NaN values are filled.\n",
        "merged_df_left = pd.merge(df1, df2, on='ID', how='left')\n",
        "print(\"\\nLeft Join:\")\n",
        "print(merged_df_left)\n",
        "\n",
        "# Right join: all rows from the right DataFrame (df2) are included,\n",
        "# and matching rows from the left DataFrame (df1) are added.\n",
        "# If there's no match in df1, NaN values are filled.\n",
        "merged_df_right = pd.merge(df1, df2, on='ID', how='right')\n",
        "print(\"\\nRight Join:\")\n",
        "print(merged_df_right)\n",
        "\n",
        "# Outer join: all rows from both DataFrames are included.\n",
        "# If there's no match in one DataFrame, NaN values are filled.\n",
        "merged_df_outer = pd.merge(df1, df2, on='ID', how='outer')\n",
        "print(\"\\nOuter Join:\")\n",
        "print(merged_df_outer)\n"
      ],
      "metadata": {
        "colab": {
          "base_uri": "https://localhost:8080/"
        },
        "id": "q1GI0Vs7Eapd",
        "outputId": "7cdcaf18-cf46-4412-b7ce-10adb9496f8a"
      },
      "execution_count": null,
      "outputs": [
        {
          "output_type": "stream",
          "name": "stdout",
          "text": [
            "Inner Join:\n",
            "   ID    Name    City\n",
            "0   2  Lokesh  London\n",
            "1   3   Vamsi   Paris\n",
            "\n",
            "Left Join:\n",
            "   ID    Name    City\n",
            "0   1  Nithin     NaN\n",
            "1   2  Lokesh  London\n",
            "2   3   Vamsi   Paris\n",
            "\n",
            "Right Join:\n",
            "   ID    Name      City\n",
            "0   2  Lokesh    London\n",
            "1   3   Vamsi     Paris\n",
            "2   4     NaN  New York\n",
            "\n",
            "Outer Join:\n",
            "   ID    Name      City\n",
            "0   1  Nithin       NaN\n",
            "1   2  Lokesh    London\n",
            "2   3   Vamsi     Paris\n",
            "3   4     NaN  New York\n"
          ]
        }
      ]
    },
    {
      "cell_type": "markdown",
      "source": [
        "4)How to change the order of columns of a dataframe?"
      ],
      "metadata": {
        "id": "Qp2yPl7SDW2N"
      }
    },
    {
      "cell_type": "code",
      "source": [
        "new_column_order = ['City', 'Name', 'Age']\n",
        "df = df[new_column_order]\n",
        "print(df)"
      ],
      "metadata": {
        "colab": {
          "base_uri": "https://localhost:8080/"
        },
        "id": "B7LeU3gYFvHq",
        "outputId": "8c60a4a8-a453-41a2-c239-0ced8c793f23"
      },
      "execution_count": null,
      "outputs": [
        {
          "output_type": "stream",
          "name": "stdout",
          "text": [
            "       City      Name  Age\n",
            "0  New York    Sasank   22\n",
            "1    London   Sampath   30\n",
            "2     Paris  Jaswanth   21\n"
          ]
        }
      ]
    },
    {
      "cell_type": "markdown",
      "source": [
        "5)How to reverse the rows of a dataframe?"
      ],
      "metadata": {
        "id": "tS_Y4kcbFKdm"
      }
    },
    {
      "cell_type": "code",
      "source": [
        "# Reverse the rows of the DataFrame\n",
        "df_reversed = df[::-1]\n",
        "print(df_reversed)"
      ],
      "metadata": {
        "colab": {
          "base_uri": "https://localhost:8080/"
        },
        "id": "t3vYbJAbF8TB",
        "outputId": "36b73ffc-3eca-4ee5-9595-00765b73439d"
      },
      "execution_count": null,
      "outputs": [
        {
          "output_type": "stream",
          "name": "stdout",
          "text": [
            "       City      Name  Age\n",
            "2     Paris  Jaswanth   21\n",
            "1    London   Sampath   30\n",
            "0  New York    Sasank   22\n"
          ]
        }
      ]
    },
    {
      "cell_type": "markdown",
      "source": [
        "6)How to convert a dictionary to a Dataframe?"
      ],
      "metadata": {
        "id": "JEeKs4NgFNJU"
      }
    },
    {
      "cell_type": "code",
      "source": [
        "import pandas as pd\n",
        "\n",
        "# dictionary\n",
        "data = {'Name': ['Alice', 'Bob', 'Charlie'],\n",
        "        'Age': [25, 30, 28],\n",
        "        'City': ['New York', 'London', 'Paris']}\n",
        "\n",
        "# Convert dictionary to DataFrame\n",
        "df = pd.DataFrame(data)\n",
        "print(df)"
      ],
      "metadata": {
        "colab": {
          "base_uri": "https://localhost:8080/"
        },
        "id": "eFhaiRBMGEM2",
        "outputId": "22107caf-3e18-4361-f99b-2f9f983c7b10"
      },
      "execution_count": null,
      "outputs": [
        {
          "output_type": "stream",
          "name": "stdout",
          "text": [
            "      Name  Age      City\n",
            "0    Alice   25  New York\n",
            "1      Bob   30    London\n",
            "2  Charlie   28     Paris\n"
          ]
        }
      ]
    },
    {
      "cell_type": "markdown",
      "source": [
        "7)How to set a custom index in a Dataframe?"
      ],
      "metadata": {
        "id": "BW00trPtFO1M"
      }
    },
    {
      "cell_type": "code",
      "source": [
        "import pandas as pd\n",
        "\n",
        "# Method 1: Using the index parameter during DataFrame creation\n",
        "# (If you're creating the DataFrame from a dictionary or list of dictionaries)\n",
        "data = {'Name': ['Alice', 'Bob', 'Charlie'],\n",
        "        'Age': [25, 30, 28],\n",
        "        'City': ['New York', 'London', 'Paris']}\n",
        "custom_index = ['A', 'B', 'C']  # Your custom index values\n",
        "df_with_index = pd.DataFrame(data, index=custom_index)\n",
        "print(df_with_index)"
      ],
      "metadata": {
        "colab": {
          "base_uri": "https://localhost:8080/"
        },
        "id": "v_NzjSBSGZUH",
        "outputId": "6952c95e-ecf1-4aff-8b9e-684efbbc9d0b"
      },
      "execution_count": null,
      "outputs": [
        {
          "output_type": "stream",
          "name": "stdout",
          "text": [
            "      Name  Age      City\n",
            "A    Alice   25  New York\n",
            "B      Bob   30    London\n",
            "C  Charlie   28     Paris\n"
          ]
        }
      ]
    },
    {
      "cell_type": "code",
      "source": [
        "# Method 2: Using the set_index() method\n",
        "# (If you already have a DataFrame)\n",
        "df['ID'] = ['A', 'B', 'C']  # Add a new column with your desired index values\n",
        "df = df.set_index('ID')\n",
        "print(df)"
      ],
      "metadata": {
        "colab": {
          "base_uri": "https://localhost:8080/"
        },
        "id": "HkkUPQCXGjUd",
        "outputId": "d76b8227-08bb-477d-ad11-c8c8a39761dc"
      },
      "execution_count": null,
      "outputs": [
        {
          "output_type": "stream",
          "name": "stdout",
          "text": [
            "       Name  Age      City\n",
            "ID                        \n",
            "A     Alice   25  New York\n",
            "B       Bob   30    London\n",
            "C   Charlie   28     Paris\n"
          ]
        }
      ]
    },
    {
      "cell_type": "markdown",
      "source": [
        "8)How to sort a Dataframe by multiple columns?"
      ],
      "metadata": {
        "id": "khjncLPkFQoB"
      }
    },
    {
      "cell_type": "code",
      "source": [
        "# Sort the DataFrame by 'Age' in ascending order and then by 'Name' in descending order\n",
        "df_sorted = df.sort_values(['Age', 'Name'], ascending=[True, False])\n",
        "print(df_sorted)"
      ],
      "metadata": {
        "colab": {
          "base_uri": "https://localhost:8080/"
        },
        "id": "aOnbFjaeGsMX",
        "outputId": "25b499c0-fded-4d42-e716-9b2208348010"
      },
      "execution_count": null,
      "outputs": [
        {
          "output_type": "stream",
          "name": "stdout",
          "text": [
            "       Name  Age      City\n",
            "ID                        \n",
            "A     Alice   25  New York\n",
            "C   Charlie   28     Paris\n",
            "B       Bob   30    London\n"
          ]
        }
      ]
    },
    {
      "cell_type": "markdown",
      "source": [
        "9)How to apply aggregrate function to a Dataframe?"
      ],
      "metadata": {
        "id": "qvvmNWi5FS5Q"
      }
    },
    {
      "cell_type": "code",
      "source": [
        "import pandas as pd\n",
        "\n",
        "# Sample DataFrame\n",
        "data = {'Name': ['Ariel', 'Bookie', 'Chocolate', 'Ariel', 'Bookie'],\n",
        "        'Age': [25, 30, 28, 22, 35],\n",
        "        'City': ['New York', 'London', 'Paris', 'New York', 'London']}\n",
        "df = pd.DataFrame(data)\n",
        "\n",
        "# Group by 'Name' and calculate the average age for each name\n",
        "average_age_by_name = df.groupby('Name')['Age'].mean()\n",
        "print(\"Average age by name:\")\n",
        "print(average_age_by_name)\n",
        "\n",
        "# Calculate the total number of people in each city\n",
        "people_count_by_city = df.groupby('City')['Name'].count()\n",
        "print(\"\\nPeople count by city:\")\n",
        "print(people_count_by_city)\n",
        "\n",
        "# Multiple aggregations using agg()\n",
        "agg_result = df.groupby('Name').agg({'Age': ['mean', 'min', 'max'], 'City': 'nunique'})\n",
        "print(\"\\nMultiple aggregations:\")\n",
        "print(agg_result)\n"
      ],
      "metadata": {
        "colab": {
          "base_uri": "https://localhost:8080/"
        },
        "id": "BI9eTbY4HMsw",
        "outputId": "42142026-ae4b-48a3-fd4a-222d83ea0c58"
      },
      "execution_count": null,
      "outputs": [
        {
          "output_type": "stream",
          "name": "stdout",
          "text": [
            "Average age by name:\n",
            "Name\n",
            "Ariel        23.5\n",
            "Bookie       32.5\n",
            "Chocolate    28.0\n",
            "Name: Age, dtype: float64\n",
            "\n",
            "People count by city:\n",
            "City\n",
            "London      2\n",
            "New York    2\n",
            "Paris       1\n",
            "Name: Name, dtype: int64\n",
            "\n",
            "Multiple aggregations:\n",
            "            Age            City\n",
            "           mean min max nunique\n",
            "Name                           \n",
            "Ariel      23.5  22  25       1\n",
            "Bookie     32.5  30  35       1\n",
            "Chocolate  28.0  28  28       1\n"
          ]
        }
      ]
    },
    {
      "cell_type": "markdown",
      "source": [
        "10)How to get the statistical summary of a Dataframe?"
      ],
      "metadata": {
        "id": "0St-gpLkFV9A"
      }
    },
    {
      "cell_type": "code",
      "source": [
        "import pandas as pd\n",
        "# Sample DataFrame\n",
        "data = {'Name': ['Ariel', 'Bookie', 'Chocolate'],\n",
        "        'Age': [25, 30, 28],\n",
        "        'City': ['New York', 'London', 'Paris']}\n",
        "df = pd.DataFrame(data)\n",
        "\n",
        "# Get the statistical summary of the DataFrame\n",
        "summary = df.describe()\n",
        "print(summary)"
      ],
      "metadata": {
        "colab": {
          "base_uri": "https://localhost:8080/"
        },
        "id": "fQhApuaSHh-j",
        "outputId": "f234b9e1-9a9e-44ec-b673-d2ef1c017403"
      },
      "execution_count": null,
      "outputs": [
        {
          "output_type": "stream",
          "name": "stdout",
          "text": [
            "             Age\n",
            "count   3.000000\n",
            "mean   27.666667\n",
            "std     2.516611\n",
            "min    25.000000\n",
            "25%    26.500000\n",
            "50%    28.000000\n",
            "75%    29.000000\n",
            "max    30.000000\n"
          ]
        }
      ]
    },
    {
      "cell_type": "markdown",
      "source": [
        "## **Series**"
      ],
      "metadata": {
        "id": "Z4l8CV9MDDnM"
      }
    },
    {
      "cell_type": "markdown",
      "source": [
        "1)Write a Pandas program to add, subtract, multiple and divide two Pandas\n",
        "Series.\n",
        "Sample Series: [2, 4, 6, 8, 10], [1, 3, 5, 7, 9]"
      ],
      "metadata": {
        "id": "PGhi0iIn9Vzp"
      }
    },
    {
      "cell_type": "code",
      "source": [
        "import pandas as pd\n",
        "ds1 = pd.Series([2, 4, 6, 8, 10])\n",
        "ds2 = pd.Series([1, 3, 5, 7, 9])\n",
        "ds = ds1 + ds2\n",
        "print(\"Add two Series:\")\n",
        "print(ds)\n",
        "print(\"Subtract two Series:\")\n",
        "ds = ds1 - ds2\n",
        "print(ds)\n",
        "print(\"Multiply two Series:\")\n",
        "ds = ds1 * ds2\n",
        "print(ds)\n",
        "print(\"Divide Series1 by Series2:\")\n",
        "ds = ds1 / ds2\n",
        "print(ds)"
      ],
      "metadata": {
        "colab": {
          "base_uri": "https://localhost:8080/"
        },
        "id": "dCw5CcGR_Sf5",
        "outputId": "974ade1e-90ca-40d8-be93-afe14b166928"
      },
      "execution_count": null,
      "outputs": [
        {
          "output_type": "stream",
          "name": "stdout",
          "text": [
            "Add two Series:\n",
            "0     3\n",
            "1     7\n",
            "2    11\n",
            "3    15\n",
            "4    19\n",
            "dtype: int64\n",
            "Subtract two Series:\n",
            "0    1\n",
            "1    1\n",
            "2    1\n",
            "3    1\n",
            "4    1\n",
            "dtype: int64\n",
            "Multiply two Series:\n",
            "0     2\n",
            "1    12\n",
            "2    30\n",
            "3    56\n",
            "4    90\n",
            "dtype: int64\n",
            "Divide Series1 by Series2:\n",
            "0    2.000000\n",
            "1    1.333333\n",
            "2    1.200000\n",
            "3    1.142857\n",
            "4    1.111111\n",
            "dtype: float64\n"
          ]
        }
      ]
    },
    {
      "cell_type": "markdown",
      "source": [
        "2)Write a Pandas program to compare the elements of the two Pandas Series.\n",
        "Sample Series: [2, 4, 6, 8, 10], [1, 3, 5, 7, 10]"
      ],
      "metadata": {
        "id": "qEsZfpF5-axj"
      }
    },
    {
      "cell_type": "code",
      "source": [
        "import pandas as pd\n",
        "ds1 = pd.Series([2, 4, 6, 8, 10])\n",
        "ds2 = pd.Series([1, 3, 5, 7, 10])\n",
        "print(\"Series1:\")\n",
        "print(ds1)\n",
        "print(\"Series2:\")\n",
        "print(ds2)\n",
        "print(\"Compare the elements of the said Series:\")\n",
        "print(\"Equals:\")\n",
        "print(ds1 == ds2)\n",
        "print(\"Greater than:\")\n",
        "print(ds1 > ds2)\n",
        "print(\"Less than:\")\n",
        "print(ds1 < ds2)\n"
      ],
      "metadata": {
        "colab": {
          "base_uri": "https://localhost:8080/"
        },
        "id": "4rI6zHElAIKA",
        "outputId": "dc5ddfb8-0208-4bab-c56b-c448e5197f23"
      },
      "execution_count": null,
      "outputs": [
        {
          "output_type": "stream",
          "name": "stdout",
          "text": [
            "Series1:\n",
            "0     2\n",
            "1     4\n",
            "2     6\n",
            "3     8\n",
            "4    10\n",
            "dtype: int64\n",
            "Series2:\n",
            "0     1\n",
            "1     3\n",
            "2     5\n",
            "3     7\n",
            "4    10\n",
            "dtype: int64\n",
            "Compare the elements of the said Series:\n",
            "Equals:\n",
            "0    False\n",
            "1    False\n",
            "2    False\n",
            "3    False\n",
            "4     True\n",
            "dtype: bool\n",
            "Greater than:\n",
            "0     True\n",
            "1     True\n",
            "2     True\n",
            "3     True\n",
            "4    False\n",
            "dtype: bool\n",
            "Less than:\n",
            "0    False\n",
            "1    False\n",
            "2    False\n",
            "3    False\n",
            "4    False\n",
            "dtype: bool\n"
          ]
        }
      ]
    },
    {
      "cell_type": "markdown",
      "source": [
        "3)Write a Pandas program to convert a dictionary to a Pandas series."
      ],
      "metadata": {
        "id": "MCKsbEMH-dEP"
      }
    },
    {
      "cell_type": "code",
      "source": [
        "import pandas as pd\n",
        "\n",
        "d1 = {'a': 100, 'b': 200, 'c': 300, 'd': 400, 'e': 800}\n",
        "\n",
        "new_series = pd.Series(d1)\n",
        "\n",
        "print(\"Original dictionary:\")\n",
        "print(d1)\n",
        "print(\"Converted series:\")\n",
        "print(new_series)\n"
      ],
      "metadata": {
        "colab": {
          "base_uri": "https://localhost:8080/"
        },
        "id": "6bGQt3GlAUIV",
        "outputId": "7e843cd3-26f8-4dc8-aabf-d746f5113771"
      },
      "execution_count": null,
      "outputs": [
        {
          "output_type": "stream",
          "name": "stdout",
          "text": [
            "Original dictionary:\n",
            "{'a': 100, 'b': 200, 'c': 300, 'd': 400, 'e': 800}\n",
            "Converted series:\n",
            "a    100\n",
            "b    200\n",
            "c    300\n",
            "d    400\n",
            "e    800\n",
            "dtype: int64\n"
          ]
        }
      ]
    },
    {
      "cell_type": "markdown",
      "source": [
        "4)Write a Pandas program to sort a given Series."
      ],
      "metadata": {
        "id": "M0VuGYC_-lw-"
      }
    },
    {
      "cell_type": "code",
      "source": [
        "import pandas as pd\n",
        "\n",
        "s = pd.Series(['800', '152', 'John', '35.12', '40.45'])\n",
        "print(\"Original Data Series:\")\n",
        "print(s)\n",
        "new_s = pd.Series(s).sort_values()\n",
        "print(new_s)"
      ],
      "metadata": {
        "colab": {
          "base_uri": "https://localhost:8080/"
        },
        "id": "Lp75CYu--1HT",
        "outputId": "31037609-2090-492a-9688-dc45895a8d17"
      },
      "execution_count": null,
      "outputs": [
        {
          "output_type": "stream",
          "name": "stdout",
          "text": [
            "Original Data Series:\n",
            "0      800\n",
            "1      152\n",
            "2     John\n",
            "3    35.12\n",
            "4    40.45\n",
            "dtype: object\n",
            "1      152\n",
            "3    35.12\n",
            "4    40.45\n",
            "0      800\n",
            "2     John\n",
            "dtype: object\n"
          ]
        }
      ]
    },
    {
      "cell_type": "markdown",
      "source": [
        "5)Write a Pandas program to add some data to an existing Series."
      ],
      "metadata": {
        "id": "NzA_2x50-pnK"
      }
    },
    {
      "cell_type": "code",
      "source": [
        "import pandas as pd\n",
        "data_series = pd.Series(['10', '50', 'java', '80.56', '120'])\n",
        "print(\"Original Data Series:\")\n",
        "print(data_series)\n",
        "\n",
        "print(\"\\nData Series after adding some data:\")\n",
        "updated_series = pd.concat([data_series, pd.Series([250, \"c++\"])], ignore_index=True)\n",
        "print(updated_series)"
      ],
      "metadata": {
        "id": "2A6oh7UhJCgd",
        "colab": {
          "base_uri": "https://localhost:8080/"
        },
        "outputId": "03096e1e-f0bc-4eb1-dfb2-199cacc45f00"
      },
      "execution_count": null,
      "outputs": [
        {
          "output_type": "stream",
          "name": "stdout",
          "text": [
            "Original Data Series:\n",
            "0       10\n",
            "1       50\n",
            "2     java\n",
            "3    80.56\n",
            "4      120\n",
            "dtype: object\n",
            "\n",
            "Data Series after adding some data:\n",
            "0       10\n",
            "1       50\n",
            "2     java\n",
            "3    80.56\n",
            "4      120\n",
            "5      250\n",
            "6      c++\n",
            "dtype: object\n"
          ]
        }
      ]
    },
    {
      "cell_type": "markdown",
      "source": [
        "6)Write a Pandas program to create a subset of a given series based on value\n",
        "and condition."
      ],
      "metadata": {
        "id": "O5Omd440-xXJ"
      }
    },
    {
      "cell_type": "code",
      "source": [
        "import pandas as pd\n",
        "\n",
        "# Sample Series\n",
        "series = pd.Series([1, 2, 3, 4, 5, 6, 7, 8, 9, 10])\n",
        "\n",
        "# Create a subset of the series where the values are greater than 5\n",
        "subset = series[series > 5]\n",
        "\n",
        "print(\"Original Series:\")\n",
        "print(series)\n",
        "\n",
        "print(\"\\nSubset of the Series (values greater than 5):\")\n",
        "print(subset)\n"
      ],
      "metadata": {
        "id": "CvEfBqiZ-0vL",
        "colab": {
          "base_uri": "https://localhost:8080/"
        },
        "outputId": "d7690313-b110-4ee5-889a-d0ec276be1cf"
      },
      "execution_count": 1,
      "outputs": [
        {
          "output_type": "stream",
          "name": "stdout",
          "text": [
            "Original Series:\n",
            "0     1\n",
            "1     2\n",
            "2     3\n",
            "3     4\n",
            "4     5\n",
            "5     6\n",
            "6     7\n",
            "7     8\n",
            "8     9\n",
            "9    10\n",
            "dtype: int64\n",
            "\n",
            "Subset of the Series (values greater than 5):\n",
            "5     6\n",
            "6     7\n",
            "7     8\n",
            "8     9\n",
            "9    10\n",
            "dtype: int64\n"
          ]
        }
      ]
    },
    {
      "cell_type": "markdown",
      "source": [
        "7)Write a Pandas program to create the mean and standard deviation of the data\n",
        "of a given Series."
      ],
      "metadata": {
        "id": "IP-5rlR_-zOs"
      }
    },
    {
      "cell_type": "code",
      "source": [
        "import pandas as pd\n",
        "\n",
        "# Sample Series\n",
        "series = pd.Series([1, 2, 3, 4, 5, 6, 7, 8, 9, 10])\n",
        "\n",
        "# Calculate the mean of the series\n",
        "mean = series.mean()\n",
        "\n",
        "# Calculate the standard deviation of the series\n",
        "std_dev = series.std()\n",
        "\n",
        "print(\"Original Series:\")\n",
        "print(series)\n",
        "\n",
        "print(\"\\nMean of the Series:\")\n",
        "print(mean)\n",
        "\n",
        "print(\"\\nStandard Deviation of the Series:\")\n",
        "print(std_dev)\n"
      ],
      "metadata": {
        "id": "jE-UK2_v-0Ri",
        "colab": {
          "base_uri": "https://localhost:8080/"
        },
        "outputId": "0507b643-7909-462f-d4ab-517a3f714a17"
      },
      "execution_count": 2,
      "outputs": [
        {
          "output_type": "stream",
          "name": "stdout",
          "text": [
            "Original Series:\n",
            "0     1\n",
            "1     2\n",
            "2     3\n",
            "3     4\n",
            "4     5\n",
            "5     6\n",
            "6     7\n",
            "7     8\n",
            "8     9\n",
            "9    10\n",
            "dtype: int64\n",
            "\n",
            "Mean of the Series:\n",
            "5.5\n",
            "\n",
            "Standard Deviation of the Series:\n",
            "3.0276503540974917\n"
          ]
        }
      ]
    }
  ]
}